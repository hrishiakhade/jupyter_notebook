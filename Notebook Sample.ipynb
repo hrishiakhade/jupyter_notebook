{
    "cells": [
        {
            "cell_type": "markdown",
            "metadata": {},
            "source": "#NOtebook Code  \nSample Book"
        },
        {
            "cell_type": "code",
            "execution_count": 2,
            "metadata": {},
            "outputs": [
                {
                    "data": {
                        "text/html": "<div>\n<style scoped>\n    .dataframe tbody tr th:only-of-type {\n        vertical-align: middle;\n    }\n\n    .dataframe tbody tr th {\n        vertical-align: top;\n    }\n\n    .dataframe thead th {\n        text-align: right;\n    }\n</style>\n<table border=\"1\" class=\"dataframe\">\n  <thead>\n    <tr style=\"text-align: right;\">\n      <th></th>\n      <th>year_month</th>\n      <th>month_of_release</th>\n      <th>passenger_type</th>\n      <th>direction</th>\n      <th>sex</th>\n      <th>age</th>\n      <th>estimate</th>\n      <th>standard_error</th>\n      <th>status</th>\n    </tr>\n  </thead>\n  <tbody>\n    <tr>\n      <th>0</th>\n      <td>2019-05</td>\n      <td>2020-09</td>\n      <td>Long-term migrant</td>\n      <td>Arrivals</td>\n      <td>Female</td>\n      <td>0-4 years</td>\n      <td>316</td>\n      <td>0</td>\n      <td>Final</td>\n    </tr>\n    <tr>\n      <th>1</th>\n      <td>2019-06</td>\n      <td>2020-09</td>\n      <td>Long-term migrant</td>\n      <td>Arrivals</td>\n      <td>Female</td>\n      <td>0-4 years</td>\n      <td>340</td>\n      <td>0</td>\n      <td>Provisional</td>\n    </tr>\n    <tr>\n      <th>2</th>\n      <td>2019-07</td>\n      <td>2020-09</td>\n      <td>Long-term migrant</td>\n      <td>Arrivals</td>\n      <td>Female</td>\n      <td>0-4 years</td>\n      <td>357</td>\n      <td>1</td>\n      <td>Provisional</td>\n    </tr>\n    <tr>\n      <th>3</th>\n      <td>2019-08</td>\n      <td>2020-09</td>\n      <td>Long-term migrant</td>\n      <td>Arrivals</td>\n      <td>Female</td>\n      <td>0-4 years</td>\n      <td>421</td>\n      <td>2</td>\n      <td>Provisional</td>\n    </tr>\n    <tr>\n      <th>4</th>\n      <td>2019-09</td>\n      <td>2020-09</td>\n      <td>Long-term migrant</td>\n      <td>Arrivals</td>\n      <td>Female</td>\n      <td>0-4 years</td>\n      <td>396</td>\n      <td>3</td>\n      <td>Provisional</td>\n    </tr>\n  </tbody>\n</table>\n</div>",
                        "text/plain": "  year_month month_of_release     passenger_type direction     sex        age  \\\n0    2019-05          2020-09  Long-term migrant  Arrivals  Female  0-4 years   \n1    2019-06          2020-09  Long-term migrant  Arrivals  Female  0-4 years   \n2    2019-07          2020-09  Long-term migrant  Arrivals  Female  0-4 years   \n3    2019-08          2020-09  Long-term migrant  Arrivals  Female  0-4 years   \n4    2019-09          2020-09  Long-term migrant  Arrivals  Female  0-4 years   \n\n   estimate  standard_error       status  \n0       316               0        Final  \n1       340               0  Provisional  \n2       357               1  Provisional  \n3       421               2  Provisional  \n4       396               3  Provisional  "
                    },
                    "execution_count": 2,
                    "metadata": {},
                    "output_type": "execute_result"
                }
            ],
            "source": "# The code was removed by Watson Studio for sharing."
        },
        {
            "cell_type": "code",
            "execution_count": null,
            "metadata": {},
            "outputs": [],
            "source": ""
        }
    ],
    "metadata": {
        "kernelspec": {
            "display_name": "Python 3.7",
            "language": "python",
            "name": "python3"
        },
        "language_info": {
            "codemirror_mode": {
                "name": "ipython",
                "version": 3
            },
            "file_extension": ".py",
            "mimetype": "text/x-python",
            "name": "python",
            "nbconvert_exporter": "python",
            "pygments_lexer": "ipython3",
            "version": "3.7.9"
        }
    },
    "nbformat": 4,
    "nbformat_minor": 1
}